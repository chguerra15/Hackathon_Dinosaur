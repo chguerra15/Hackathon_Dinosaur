{
 "cells": [
  {
   "cell_type": "code",
   "execution_count": 11,
   "id": "82442e32-c58f-4c91-9f1d-adebd0b1b3f4",
   "metadata": {},
   "outputs": [
    {
     "name": "stdout",
     "output_type": "stream",
     "text": [
      "Requirement already satisfied: geopandas in /Library/Frameworks/Python.framework/Versions/3.12/lib/python3.12/site-packages (0.14.3)\n",
      "Requirement already satisfied: fiona>=1.8.21 in /Library/Frameworks/Python.framework/Versions/3.12/lib/python3.12/site-packages (from geopandas) (1.9.6)\n",
      "Requirement already satisfied: packaging in /Library/Frameworks/Python.framework/Versions/3.12/lib/python3.12/site-packages (from geopandas) (23.2)\n",
      "Requirement already satisfied: pandas>=1.4.0 in /Library/Frameworks/Python.framework/Versions/3.12/lib/python3.12/site-packages (from geopandas) (2.2.1)\n",
      "Requirement already satisfied: pyproj>=3.3.0 in /Library/Frameworks/Python.framework/Versions/3.12/lib/python3.12/site-packages (from geopandas) (3.6.1)\n",
      "Requirement already satisfied: shapely>=1.8.0 in /Library/Frameworks/Python.framework/Versions/3.12/lib/python3.12/site-packages (from geopandas) (2.0.3)\n",
      "Requirement already satisfied: attrs>=19.2.0 in /Library/Frameworks/Python.framework/Versions/3.12/lib/python3.12/site-packages (from fiona>=1.8.21->geopandas) (23.2.0)\n",
      "Requirement already satisfied: certifi in /Library/Frameworks/Python.framework/Versions/3.12/lib/python3.12/site-packages (from fiona>=1.8.21->geopandas) (2023.11.17)\n",
      "Requirement already satisfied: click~=8.0 in /Library/Frameworks/Python.framework/Versions/3.12/lib/python3.12/site-packages (from fiona>=1.8.21->geopandas) (8.1.7)\n",
      "Requirement already satisfied: click-plugins>=1.0 in /Library/Frameworks/Python.framework/Versions/3.12/lib/python3.12/site-packages (from fiona>=1.8.21->geopandas) (1.1.1)\n",
      "Requirement already satisfied: cligj>=0.5 in /Library/Frameworks/Python.framework/Versions/3.12/lib/python3.12/site-packages (from fiona>=1.8.21->geopandas) (0.7.2)\n",
      "Requirement already satisfied: six in /Library/Frameworks/Python.framework/Versions/3.12/lib/python3.12/site-packages (from fiona>=1.8.21->geopandas) (1.16.0)\n",
      "Requirement already satisfied: numpy<2,>=1.26.0 in /Library/Frameworks/Python.framework/Versions/3.12/lib/python3.12/site-packages (from pandas>=1.4.0->geopandas) (1.26.4)\n",
      "Requirement already satisfied: python-dateutil>=2.8.2 in /Library/Frameworks/Python.framework/Versions/3.12/lib/python3.12/site-packages (from pandas>=1.4.0->geopandas) (2.8.2)\n",
      "Requirement already satisfied: pytz>=2020.1 in /Library/Frameworks/Python.framework/Versions/3.12/lib/python3.12/site-packages (from pandas>=1.4.0->geopandas) (2024.1)\n",
      "Requirement already satisfied: tzdata>=2022.7 in /Library/Frameworks/Python.framework/Versions/3.12/lib/python3.12/site-packages (from pandas>=1.4.0->geopandas) (2024.1)\n",
      "\n",
      "\u001b[1m[\u001b[0m\u001b[34;49mnotice\u001b[0m\u001b[1;39;49m]\u001b[0m\u001b[39;49m A new release of pip is available: \u001b[0m\u001b[31;49m23.3.2\u001b[0m\u001b[39;49m -> \u001b[0m\u001b[32;49m24.0\u001b[0m\n",
      "\u001b[1m[\u001b[0m\u001b[34;49mnotice\u001b[0m\u001b[1;39;49m]\u001b[0m\u001b[39;49m To update, run: \u001b[0m\u001b[32;49mpip3.12 install --upgrade pip\u001b[0m\n",
      "Note: you may need to restart the kernel to use updated packages.\n"
     ]
    }
   ],
   "source": [
    "pip install geopandas"
   ]
  },
  {
   "cell_type": "code",
   "execution_count": 49,
   "id": "fbb0baf1-32a4-4478-b377-5e74b2e6fe8a",
   "metadata": {},
   "outputs": [
    {
     "name": "stdout",
     "output_type": "stream",
     "text": [
      "Requirement already satisfied: fiona in ./miniforge3/lib/python3.10/site-packages (1.9.6)\n",
      "Requirement already satisfied: attrs>=19.2.0 in ./miniforge3/lib/python3.10/site-packages (from fiona) (23.2.0)\n",
      "Requirement already satisfied: click~=8.0 in ./miniforge3/lib/python3.10/site-packages (from fiona) (8.1.7)\n",
      "Requirement already satisfied: click-plugins>=1.0 in ./miniforge3/lib/python3.10/site-packages (from fiona) (1.1.1)\n",
      "Requirement already satisfied: cligj>=0.5 in ./miniforge3/lib/python3.10/site-packages (from fiona) (0.7.2)\n",
      "Requirement already satisfied: six in ./miniforge3/lib/python3.10/site-packages (from fiona) (1.16.0)\n",
      "Collecting pyogrio\n",
      "  Downloading pyogrio-0.7.2-cp310-cp310-macosx_11_0_arm64.whl.metadata (3.8 kB)\n",
      "Requirement already satisfied: certifi in ./miniforge3/lib/python3.10/site-packages (from pyogrio) (2024.2.2)\n",
      "Requirement already satisfied: numpy in ./miniforge3/lib/python3.10/site-packages (from pyogrio) (1.26.4)\n",
      "Requirement already satisfied: packaging in ./miniforge3/lib/python3.10/site-packages (from pyogrio) (24.0)\n",
      "Downloading pyogrio-0.7.2-cp310-cp310-macosx_11_0_arm64.whl (14.1 MB)\n",
      "\u001b[2K   \u001b[90m━━━━━━━━━━━━━━━━━━━━━━━━━━━━━━━━━━━━━━━━\u001b[0m \u001b[32m14.1/14.1 MB\u001b[0m \u001b[31m11.8 MB/s\u001b[0m eta \u001b[36m0:00:00\u001b[0m00:01\u001b[0m00:01\u001b[0m\n",
      "\u001b[?25hInstalling collected packages: pyogrio\n",
      "Successfully installed pyogrio-0.7.2\n"
     ]
    }
   ],
   "source": [
    "!pip install fiona\n",
    "!pip install pyogrio\n"
   ]
  },
  {
   "cell_type": "code",
   "execution_count": 50,
   "id": "68936fd5-6b92-4910-bc62-52787e8864d8",
   "metadata": {},
   "outputs": [
    {
     "name": "stdout",
     "output_type": "stream",
     "text": [
      "Requirement already satisfied: matplotlib in /Library/Frameworks/Python.framework/Versions/3.12/lib/python3.12/site-packages (3.8.4)\n",
      "Requirement already satisfied: contourpy>=1.0.1 in /Library/Frameworks/Python.framework/Versions/3.12/lib/python3.12/site-packages (from matplotlib) (1.2.1)\n",
      "Requirement already satisfied: cycler>=0.10 in /Library/Frameworks/Python.framework/Versions/3.12/lib/python3.12/site-packages (from matplotlib) (0.12.1)\n",
      "Requirement already satisfied: fonttools>=4.22.0 in /Library/Frameworks/Python.framework/Versions/3.12/lib/python3.12/site-packages (from matplotlib) (4.51.0)\n",
      "Requirement already satisfied: kiwisolver>=1.3.1 in /Library/Frameworks/Python.framework/Versions/3.12/lib/python3.12/site-packages (from matplotlib) (1.4.5)\n",
      "Requirement already satisfied: numpy>=1.21 in /Library/Frameworks/Python.framework/Versions/3.12/lib/python3.12/site-packages (from matplotlib) (1.26.4)\n",
      "Requirement already satisfied: packaging>=20.0 in /Library/Frameworks/Python.framework/Versions/3.12/lib/python3.12/site-packages (from matplotlib) (23.2)\n",
      "Requirement already satisfied: pillow>=8 in /Library/Frameworks/Python.framework/Versions/3.12/lib/python3.12/site-packages (from matplotlib) (10.3.0)\n",
      "Requirement already satisfied: pyparsing>=2.3.1 in /Library/Frameworks/Python.framework/Versions/3.12/lib/python3.12/site-packages (from matplotlib) (3.1.2)\n",
      "Requirement already satisfied: python-dateutil>=2.7 in /Library/Frameworks/Python.framework/Versions/3.12/lib/python3.12/site-packages (from matplotlib) (2.8.2)\n",
      "Requirement already satisfied: six>=1.5 in /Library/Frameworks/Python.framework/Versions/3.12/lib/python3.12/site-packages (from python-dateutil>=2.7->matplotlib) (1.16.0)\n",
      "\n",
      "\u001b[1m[\u001b[0m\u001b[34;49mnotice\u001b[0m\u001b[1;39;49m]\u001b[0m\u001b[39;49m A new release of pip is available: \u001b[0m\u001b[31;49m23.3.2\u001b[0m\u001b[39;49m -> \u001b[0m\u001b[32;49m24.0\u001b[0m\n",
      "\u001b[1m[\u001b[0m\u001b[34;49mnotice\u001b[0m\u001b[1;39;49m]\u001b[0m\u001b[39;49m To update, run: \u001b[0m\u001b[32;49mpip3.12 install --upgrade pip\u001b[0m\n",
      "Note: you may need to restart the kernel to use updated packages.\n"
     ]
    }
   ],
   "source": [
    "pip install matplotlib"
   ]
  },
  {
   "cell_type": "code",
   "execution_count": 70,
   "id": "248aa458-7c62-4348-adad-4adb5d9596c5",
   "metadata": {},
   "outputs": [
    {
     "name": "stdout",
     "output_type": "stream",
     "text": [
      "Collecting folium\n",
      "  Downloading folium-0.16.0-py2.py3-none-any.whl.metadata (3.6 kB)\n",
      "Collecting branca>=0.6.0 (from folium)\n",
      "  Downloading branca-0.7.1-py3-none-any.whl.metadata (1.5 kB)\n",
      "Requirement already satisfied: jinja2>=2.9 in /Library/Frameworks/Python.framework/Versions/3.12/lib/python3.12/site-packages (from folium) (3.1.2)\n",
      "Requirement already satisfied: numpy in /Library/Frameworks/Python.framework/Versions/3.12/lib/python3.12/site-packages (from folium) (1.26.4)\n",
      "Requirement already satisfied: requests in /Library/Frameworks/Python.framework/Versions/3.12/lib/python3.12/site-packages (from folium) (2.31.0)\n",
      "Collecting xyzservices (from folium)\n",
      "  Downloading xyzservices-2024.4.0-py3-none-any.whl.metadata (4.0 kB)\n",
      "Requirement already satisfied: MarkupSafe>=2.0 in /Library/Frameworks/Python.framework/Versions/3.12/lib/python3.12/site-packages (from jinja2>=2.9->folium) (2.1.3)\n",
      "Requirement already satisfied: charset-normalizer<4,>=2 in /Library/Frameworks/Python.framework/Versions/3.12/lib/python3.12/site-packages (from requests->folium) (3.3.2)\n",
      "Requirement already satisfied: idna<4,>=2.5 in /Library/Frameworks/Python.framework/Versions/3.12/lib/python3.12/site-packages (from requests->folium) (3.6)\n",
      "Requirement already satisfied: urllib3<3,>=1.21.1 in /Library/Frameworks/Python.framework/Versions/3.12/lib/python3.12/site-packages (from requests->folium) (2.1.0)\n",
      "Requirement already satisfied: certifi>=2017.4.17 in /Library/Frameworks/Python.framework/Versions/3.12/lib/python3.12/site-packages (from requests->folium) (2023.11.17)\n",
      "Downloading folium-0.16.0-py2.py3-none-any.whl (100 kB)\n",
      "\u001b[2K   \u001b[90m━━━━━━━━━━━━━━━━━━━━━━━━━━━━━━━━━━━━━━━\u001b[0m \u001b[32m100.0/100.0 kB\u001b[0m \u001b[31m131.3 kB/s\u001b[0m eta \u001b[36m0:00:00\u001b[0ma \u001b[36m0:00:01\u001b[0m\n",
      "\u001b[?25hDownloading branca-0.7.1-py3-none-any.whl (25 kB)\n",
      "Downloading xyzservices-2024.4.0-py3-none-any.whl (81 kB)\n",
      "\u001b[2K   \u001b[90m━━━━━━━━━━━━━━━━━━━━━━━━━━━━━━━━━━━━━━━━\u001b[0m \u001b[32m82.0/82.0 kB\u001b[0m \u001b[31m605.2 kB/s\u001b[0m eta \u001b[36m0:00:00\u001b[0ma \u001b[36m0:00:01\u001b[0m\n",
      "\u001b[?25hInstalling collected packages: xyzservices, branca, folium\n",
      "Successfully installed branca-0.7.1 folium-0.16.0 xyzservices-2024.4.0\n",
      "\n",
      "\u001b[1m[\u001b[0m\u001b[34;49mnotice\u001b[0m\u001b[1;39;49m]\u001b[0m\u001b[39;49m A new release of pip is available: \u001b[0m\u001b[31;49m23.3.2\u001b[0m\u001b[39;49m -> \u001b[0m\u001b[32;49m24.0\u001b[0m\n",
      "\u001b[1m[\u001b[0m\u001b[34;49mnotice\u001b[0m\u001b[1;39;49m]\u001b[0m\u001b[39;49m To update, run: \u001b[0m\u001b[32;49mpip3.12 install --upgrade pip\u001b[0m\n",
      "Note: you may need to restart the kernel to use updated packages.\n"
     ]
    }
   ],
   "source": [
    "pip install folium"
   ]
  },
  {
   "cell_type": "code",
   "execution_count": 71,
   "id": "ae83b54e-7c85-4eb9-9a4b-73f044aa8941",
   "metadata": {},
   "outputs": [
    {
     "name": "stdout",
     "output_type": "stream",
     "text": [
      "Requirement already satisfied: worldmap in /Library/Frameworks/Python.framework/Versions/3.12/lib/python3.12/site-packages (0.1.7)\n",
      "Requirement already satisfied: wget in /Library/Frameworks/Python.framework/Versions/3.12/lib/python3.12/site-packages (from worldmap) (3.2)\n",
      "Requirement already satisfied: matplotlib in /Library/Frameworks/Python.framework/Versions/3.12/lib/python3.12/site-packages (from worldmap) (3.8.4)\n",
      "Requirement already satisfied: numpy in /Library/Frameworks/Python.framework/Versions/3.12/lib/python3.12/site-packages (from worldmap) (1.26.4)\n",
      "Requirement already satisfied: pandas in /Library/Frameworks/Python.framework/Versions/3.12/lib/python3.12/site-packages (from worldmap) (2.2.1)\n",
      "Requirement already satisfied: svgpathtools in /Library/Frameworks/Python.framework/Versions/3.12/lib/python3.12/site-packages (from worldmap) (1.6.1)\n",
      "Requirement already satisfied: colourmap in /Library/Frameworks/Python.framework/Versions/3.12/lib/python3.12/site-packages (from worldmap) (1.1.16)\n",
      "Requirement already satisfied: tqdm in /Library/Frameworks/Python.framework/Versions/3.12/lib/python3.12/site-packages (from worldmap) (4.66.2)\n",
      "Requirement already satisfied: rapidfuzz in /Library/Frameworks/Python.framework/Versions/3.12/lib/python3.12/site-packages (from worldmap) (3.8.0)\n",
      "Requirement already satisfied: scikit-learn in /Library/Frameworks/Python.framework/Versions/3.12/lib/python3.12/site-packages (from worldmap) (1.4.1.post1)\n",
      "Requirement already satisfied: seaborn in /Library/Frameworks/Python.framework/Versions/3.12/lib/python3.12/site-packages (from worldmap) (0.13.2)\n",
      "Requirement already satisfied: contourpy>=1.0.1 in /Library/Frameworks/Python.framework/Versions/3.12/lib/python3.12/site-packages (from matplotlib->worldmap) (1.2.1)\n",
      "Requirement already satisfied: cycler>=0.10 in /Library/Frameworks/Python.framework/Versions/3.12/lib/python3.12/site-packages (from matplotlib->worldmap) (0.12.1)\n",
      "Requirement already satisfied: fonttools>=4.22.0 in /Library/Frameworks/Python.framework/Versions/3.12/lib/python3.12/site-packages (from matplotlib->worldmap) (4.51.0)\n",
      "Requirement already satisfied: kiwisolver>=1.3.1 in /Library/Frameworks/Python.framework/Versions/3.12/lib/python3.12/site-packages (from matplotlib->worldmap) (1.4.5)\n",
      "Requirement already satisfied: packaging>=20.0 in /Library/Frameworks/Python.framework/Versions/3.12/lib/python3.12/site-packages (from matplotlib->worldmap) (23.2)\n",
      "Requirement already satisfied: pillow>=8 in /Library/Frameworks/Python.framework/Versions/3.12/lib/python3.12/site-packages (from matplotlib->worldmap) (10.3.0)\n",
      "Requirement already satisfied: pyparsing>=2.3.1 in /Library/Frameworks/Python.framework/Versions/3.12/lib/python3.12/site-packages (from matplotlib->worldmap) (3.1.2)\n",
      "Requirement already satisfied: python-dateutil>=2.7 in /Library/Frameworks/Python.framework/Versions/3.12/lib/python3.12/site-packages (from matplotlib->worldmap) (2.8.2)\n",
      "Requirement already satisfied: pytz>=2020.1 in /Library/Frameworks/Python.framework/Versions/3.12/lib/python3.12/site-packages (from pandas->worldmap) (2024.1)\n",
      "Requirement already satisfied: tzdata>=2022.7 in /Library/Frameworks/Python.framework/Versions/3.12/lib/python3.12/site-packages (from pandas->worldmap) (2024.1)\n",
      "Requirement already satisfied: scipy>=1.6.0 in /Library/Frameworks/Python.framework/Versions/3.12/lib/python3.12/site-packages (from scikit-learn->worldmap) (1.13.0)\n",
      "Requirement already satisfied: joblib>=1.2.0 in /Library/Frameworks/Python.framework/Versions/3.12/lib/python3.12/site-packages (from scikit-learn->worldmap) (1.3.2)\n",
      "Requirement already satisfied: threadpoolctl>=2.0.0 in /Library/Frameworks/Python.framework/Versions/3.12/lib/python3.12/site-packages (from scikit-learn->worldmap) (3.4.0)\n",
      "Requirement already satisfied: svgwrite in /Library/Frameworks/Python.framework/Versions/3.12/lib/python3.12/site-packages (from svgpathtools->worldmap) (1.4.3)\n",
      "Requirement already satisfied: six>=1.5 in /Library/Frameworks/Python.framework/Versions/3.12/lib/python3.12/site-packages (from python-dateutil>=2.7->matplotlib->worldmap) (1.16.0)\n",
      "\n",
      "\u001b[1m[\u001b[0m\u001b[34;49mnotice\u001b[0m\u001b[1;39;49m]\u001b[0m\u001b[39;49m A new release of pip is available: \u001b[0m\u001b[31;49m23.3.2\u001b[0m\u001b[39;49m -> \u001b[0m\u001b[32;49m24.0\u001b[0m\n",
      "\u001b[1m[\u001b[0m\u001b[34;49mnotice\u001b[0m\u001b[1;39;49m]\u001b[0m\u001b[39;49m To update, run: \u001b[0m\u001b[32;49mpip3.12 install --upgrade pip\u001b[0m\n",
      "Note: you may need to restart the kernel to use updated packages.\n"
     ]
    }
   ],
   "source": [
    "pip install worldmap"
   ]
  },
  {
   "cell_type": "code",
   "execution_count": null,
   "id": "670dbefb-ccea-4cdc-b89d-d86c94ee4af4",
   "metadata": {},
   "outputs": [],
   "source": [
    "\n"
   ]
  },
  {
   "cell_type": "code",
   "execution_count": null,
   "id": "bc7fc326-51b1-4180-abea-44fe24e90f56",
   "metadata": {},
   "outputs": [],
   "source": []
  },
  {
   "cell_type": "code",
   "execution_count": 83,
   "id": "8f9c2200-2b24-4c3f-9ca7-cb1801f4789d",
   "metadata": {},
   "outputs": [
    {
     "name": "stdout",
     "output_type": "stream",
     "text": [
      "Requirement already satisfied: folium in /Library/Frameworks/Python.framework/Versions/3.12/lib/python3.12/site-packages (0.16.0)\n",
      "Requirement already satisfied: branca>=0.6.0 in /Library/Frameworks/Python.framework/Versions/3.12/lib/python3.12/site-packages (from folium) (0.7.1)\n",
      "Requirement already satisfied: jinja2>=2.9 in /Library/Frameworks/Python.framework/Versions/3.12/lib/python3.12/site-packages (from folium) (3.1.2)\n",
      "Requirement already satisfied: numpy in /Library/Frameworks/Python.framework/Versions/3.12/lib/python3.12/site-packages (from folium) (1.26.4)\n",
      "Requirement already satisfied: requests in /Library/Frameworks/Python.framework/Versions/3.12/lib/python3.12/site-packages (from folium) (2.31.0)\n",
      "Requirement already satisfied: xyzservices in /Library/Frameworks/Python.framework/Versions/3.12/lib/python3.12/site-packages (from folium) (2024.4.0)\n",
      "Requirement already satisfied: MarkupSafe>=2.0 in /Library/Frameworks/Python.framework/Versions/3.12/lib/python3.12/site-packages (from jinja2>=2.9->folium) (2.1.3)\n",
      "Requirement already satisfied: charset-normalizer<4,>=2 in /Library/Frameworks/Python.framework/Versions/3.12/lib/python3.12/site-packages (from requests->folium) (3.3.2)\n",
      "Requirement already satisfied: idna<4,>=2.5 in /Library/Frameworks/Python.framework/Versions/3.12/lib/python3.12/site-packages (from requests->folium) (3.6)\n",
      "Requirement already satisfied: urllib3<3,>=1.21.1 in /Library/Frameworks/Python.framework/Versions/3.12/lib/python3.12/site-packages (from requests->folium) (2.1.0)\n",
      "Requirement already satisfied: certifi>=2017.4.17 in /Library/Frameworks/Python.framework/Versions/3.12/lib/python3.12/site-packages (from requests->folium) (2023.11.17)\n",
      "\n",
      "\u001b[1m[\u001b[0m\u001b[34;49mnotice\u001b[0m\u001b[1;39;49m]\u001b[0m\u001b[39;49m A new release of pip is available: \u001b[0m\u001b[31;49m23.3.2\u001b[0m\u001b[39;49m -> \u001b[0m\u001b[32;49m24.0\u001b[0m\n",
      "\u001b[1m[\u001b[0m\u001b[34;49mnotice\u001b[0m\u001b[1;39;49m]\u001b[0m\u001b[39;49m To update, run: \u001b[0m\u001b[32;49mpip3.12 install --upgrade pip\u001b[0m\n",
      "Note: you may need to restart the kernel to use updated packages.\n"
     ]
    }
   ],
   "source": [
    "pip install folium"
   ]
  },
  {
   "cell_type": "code",
   "execution_count": 84,
   "id": "9be803fd-e92f-4436-94d2-8da5108d32e7",
   "metadata": {},
   "outputs": [
    {
     "data": {
      "text/plain": [
       "lived_in\n",
       "USA               77\n",
       "China             48\n",
       "Mongolia          46\n",
       "Argentina         26\n",
       "United Kingdom    21\n",
       "                  ..\n",
       "Uruguay            1\n",
       "Malawi             1\n",
       "Tunisia            1\n",
       "Wales              1\n",
       "Switzerland        1\n",
       "Name: count, Length: 32, dtype: int64"
      ]
     },
     "execution_count": 84,
     "metadata": {},
     "output_type": "execute_result"
    }
   ],
   "source": [
    "dino_distribution = df['lived_in'].value_counts()\n",
    "dino_distribution"
   ]
  },
  {
   "cell_type": "code",
   "execution_count": 116,
   "id": "8064e805-2832-440a-ad04-dabc5cb4b3d0",
   "metadata": {},
   "outputs": [
    {
     "data": {
      "text/plain": [
       "'dinosaur_distribution_heatmap.html'"
      ]
     },
     "execution_count": 116,
     "metadata": {},
     "output_type": "execute_result"
    }
   ],
   "source": [
    "\n",
    "import folium\n",
    "from folium.plugins import HeatMap\n",
    "region_coordinates = {\n",
    "      'USA': (37.0902, -95.7129),\n",
    "    'China': (35.8617, 104.1954),\n",
    "    'Mongolia': (46.8625, 103.8467),\n",
    "    'Argentina': (-38.4161, -63.6167),\n",
    "    'United Kingdom': (55.3781, -3.4360),\n",
    "    'Canada': (56.1304, -106.3468),\n",
    "    'Germany': (51.1657, 10.4515),\n",
    "    'Niger': (17.6078, 8.0817),\n",
    "    'Australia': (-25.2744, 133.7751),\n",
    "    'Tanzania': (-6.3690, 34.8888),\n",
    "    'South Africa': (-30.5595, 22.9375),\n",
    "    'Spain': (40.4637, -3.7492),\n",
    "    'India': (20.5937, 78.9629),\n",
    "    'France': (46.2276, 2.2137),\n",
    "    'Brazil': (-14.2350, -51.9253),\n",
    "    'Madagascar': (-18.7669, 46.8691),\n",
    "    'Zimbabwe': (-19.0154, 29.1549),\n",
    "    'Morocco': (31.7917, -7.0926),\n",
    "    'Kazakhstan': (48.0196, 66.9237),\n",
    "    'Japan': (36.2048, 138.2529),\n",
    "    'Russia': (61.5240, 105.3188),\n",
    "    'Romania': (45.9432, 24.9668),\n",
    "    'Egypt': (26.8206, 30.8025),\n",
    "    'Uzbekistan': (41.3775, 64.5853),\n",
    "    'Antarctica': (-82.8628, 135.0000),\n",
    "    'North Africa': (23.4162, 25.6628),\n",
    "    'Lesotho': (-29.609988, 28.233608),\n",
    "    'Uruguay': (-32.522779, -55.765835),\n",
    "    'Malawi': (-13.254308, 34.301525),\n",
    "    'Tunisia': (33.886917, 9.537499),\n",
    "    'Wales': (52.130661, -3.783712),\n",
    "    'Switzerland': (46.818188, 8.227512),\n",
    "}\n",
    "\n",
    "heatmap_data = []\n",
    "for region, count in dino_distribution.items():\n",
    "    if region in region_coordinates:\n",
    "        coords = region_coordinates[region]\n",
    "        heatmap_data.extend([coords] * count)\n",
    "\n",
    "map_center = [20, 0]\n",
    "\n",
    "map = folium.Map(location=map_center, zoom_start=2, tiles=None)\n",
    "\n",
    "folium.TileLayer('CartoDB positron', no_wrap=False).add_to(map)\n",
    "\n",
    "HeatMap(heatmap_data, radius=30).add_to(map)\n",
    "output_map_path = 'dinosaur_distribution_heatmap.html'\n",
    "map.save(output_map_path)\n",
    "\n",
    "output_map_path\n",
    "\n"
   ]
  },
  {
   "cell_type": "code",
   "execution_count": 117,
   "id": "89453f38-adf7-4ff7-ab2c-b63042e9d7e0",
   "metadata": {},
   "outputs": [
    {
     "data": {
      "text/html": [
       "<div style=\"width:100%;\"><div style=\"position:relative;width:100%;height:0;padding-bottom:60%;\"><span style=\"color:#565656\">Make this Notebook Trusted to load map: File -> Trust Notebook</span><iframe srcdoc=\"&lt;!DOCTYPE html&gt;\n",
       "&lt;html&gt;\n",
       "&lt;head&gt;\n",
       "    \n",
       "    &lt;meta http-equiv=&quot;content-type&quot; content=&quot;text/html; charset=UTF-8&quot; /&gt;\n",
       "    \n",
       "        &lt;script&gt;\n",
       "            L_NO_TOUCH = false;\n",
       "            L_DISABLE_3D = false;\n",
       "        &lt;/script&gt;\n",
       "    \n",
       "    &lt;style&gt;html, body {width: 100%;height: 100%;margin: 0;padding: 0;}&lt;/style&gt;\n",
       "    &lt;style&gt;#map {position:absolute;top:0;bottom:0;right:0;left:0;}&lt;/style&gt;\n",
       "    &lt;script src=&quot;https://cdn.jsdelivr.net/npm/leaflet@1.9.3/dist/leaflet.js&quot;&gt;&lt;/script&gt;\n",
       "    &lt;script src=&quot;https://code.jquery.com/jquery-3.7.1.min.js&quot;&gt;&lt;/script&gt;\n",
       "    &lt;script src=&quot;https://cdn.jsdelivr.net/npm/bootstrap@5.2.2/dist/js/bootstrap.bundle.min.js&quot;&gt;&lt;/script&gt;\n",
       "    &lt;script src=&quot;https://cdnjs.cloudflare.com/ajax/libs/Leaflet.awesome-markers/2.0.2/leaflet.awesome-markers.js&quot;&gt;&lt;/script&gt;\n",
       "    &lt;link rel=&quot;stylesheet&quot; href=&quot;https://cdn.jsdelivr.net/npm/leaflet@1.9.3/dist/leaflet.css&quot;/&gt;\n",
       "    &lt;link rel=&quot;stylesheet&quot; href=&quot;https://cdn.jsdelivr.net/npm/bootstrap@5.2.2/dist/css/bootstrap.min.css&quot;/&gt;\n",
       "    &lt;link rel=&quot;stylesheet&quot; href=&quot;https://netdna.bootstrapcdn.com/bootstrap/3.0.0/css/bootstrap.min.css&quot;/&gt;\n",
       "    &lt;link rel=&quot;stylesheet&quot; href=&quot;https://cdn.jsdelivr.net/npm/@fortawesome/fontawesome-free@6.2.0/css/all.min.css&quot;/&gt;\n",
       "    &lt;link rel=&quot;stylesheet&quot; href=&quot;https://cdnjs.cloudflare.com/ajax/libs/Leaflet.awesome-markers/2.0.2/leaflet.awesome-markers.css&quot;/&gt;\n",
       "    &lt;link rel=&quot;stylesheet&quot; href=&quot;https://cdn.jsdelivr.net/gh/python-visualization/folium/folium/templates/leaflet.awesome.rotate.min.css&quot;/&gt;\n",
       "    \n",
       "            &lt;meta name=&quot;viewport&quot; content=&quot;width=device-width,\n",
       "                initial-scale=1.0, maximum-scale=1.0, user-scalable=no&quot; /&gt;\n",
       "            &lt;style&gt;\n",
       "                #map_d40b9352e1fcb2fe4c23ac618b89f8a4 {\n",
       "                    position: relative;\n",
       "                    width: 100.0%;\n",
       "                    height: 100.0%;\n",
       "                    left: 0.0%;\n",
       "                    top: 0.0%;\n",
       "                }\n",
       "                .leaflet-container { font-size: 1rem; }\n",
       "            &lt;/style&gt;\n",
       "        \n",
       "    &lt;script src=&quot;https://cdn.jsdelivr.net/gh/python-visualization/folium@main/folium/templates/leaflet_heat.min.js&quot;&gt;&lt;/script&gt;\n",
       "&lt;/head&gt;\n",
       "&lt;body&gt;\n",
       "    \n",
       "    \n",
       "            &lt;div class=&quot;folium-map&quot; id=&quot;map_d40b9352e1fcb2fe4c23ac618b89f8a4&quot; &gt;&lt;/div&gt;\n",
       "        \n",
       "&lt;/body&gt;\n",
       "&lt;script&gt;\n",
       "    \n",
       "    \n",
       "            var map_d40b9352e1fcb2fe4c23ac618b89f8a4 = L.map(\n",
       "                &quot;map_d40b9352e1fcb2fe4c23ac618b89f8a4&quot;,\n",
       "                {\n",
       "                    center: [20.0, 0.0],\n",
       "                    crs: L.CRS.EPSG3857,\n",
       "                    zoom: 2,\n",
       "                    zoomControl: true,\n",
       "                    preferCanvas: false,\n",
       "                }\n",
       "            );\n",
       "\n",
       "            \n",
       "\n",
       "        \n",
       "    \n",
       "            var tile_layer_2c66aab9bdfd3750a78edff9405ed1c3 = L.tileLayer(\n",
       "                &quot;https://{s}.basemaps.cartocdn.com/light_all/{z}/{x}/{y}{r}.png&quot;,\n",
       "                {&quot;attribution&quot;: &quot;\\u0026copy; \\u003ca href=\\&quot;https://www.openstreetmap.org/copyright\\&quot;\\u003eOpenStreetMap\\u003c/a\\u003e contributors \\u0026copy; \\u003ca href=\\&quot;https://carto.com/attributions\\&quot;\\u003eCARTO\\u003c/a\\u003e&quot;, &quot;detectRetina&quot;: false, &quot;maxNativeZoom&quot;: 20, &quot;maxZoom&quot;: 20, &quot;minZoom&quot;: 0, &quot;noWrap&quot;: false, &quot;opacity&quot;: 1, &quot;subdomains&quot;: &quot;abcd&quot;, &quot;tms&quot;: false}\n",
       "            );\n",
       "        \n",
       "    \n",
       "            tile_layer_2c66aab9bdfd3750a78edff9405ed1c3.addTo(map_d40b9352e1fcb2fe4c23ac618b89f8a4);\n",
       "        \n",
       "    \n",
       "            var heat_map_af9a4b36fd091604f3d136d005cea372 = L.heatLayer(\n",
       "                [[37.0902, -95.7129], [37.0902, -95.7129], [37.0902, -95.7129], [37.0902, -95.7129], [37.0902, -95.7129], [37.0902, -95.7129], [37.0902, -95.7129], [37.0902, -95.7129], [37.0902, -95.7129], [37.0902, -95.7129], [37.0902, -95.7129], [37.0902, -95.7129], [37.0902, -95.7129], [37.0902, -95.7129], [37.0902, -95.7129], [37.0902, -95.7129], [37.0902, -95.7129], [37.0902, -95.7129], [37.0902, -95.7129], [37.0902, -95.7129], [37.0902, -95.7129], [37.0902, -95.7129], [37.0902, -95.7129], [37.0902, -95.7129], [37.0902, -95.7129], [37.0902, -95.7129], [37.0902, -95.7129], [37.0902, -95.7129], [37.0902, -95.7129], [37.0902, -95.7129], [37.0902, -95.7129], [37.0902, -95.7129], [37.0902, -95.7129], [37.0902, -95.7129], [37.0902, -95.7129], [37.0902, -95.7129], [37.0902, -95.7129], [37.0902, -95.7129], [37.0902, -95.7129], [37.0902, -95.7129], [37.0902, -95.7129], [37.0902, -95.7129], [37.0902, -95.7129], [37.0902, -95.7129], [37.0902, -95.7129], [37.0902, -95.7129], [37.0902, -95.7129], [37.0902, -95.7129], [37.0902, -95.7129], [37.0902, -95.7129], [37.0902, -95.7129], [37.0902, -95.7129], [37.0902, -95.7129], [37.0902, -95.7129], [37.0902, -95.7129], [37.0902, -95.7129], [37.0902, -95.7129], [37.0902, -95.7129], [37.0902, -95.7129], [37.0902, -95.7129], [37.0902, -95.7129], [37.0902, -95.7129], [37.0902, -95.7129], [37.0902, -95.7129], [37.0902, -95.7129], [37.0902, -95.7129], [37.0902, -95.7129], [37.0902, -95.7129], [37.0902, -95.7129], [37.0902, -95.7129], [37.0902, -95.7129], [37.0902, -95.7129], [37.0902, -95.7129], [37.0902, -95.7129], [37.0902, -95.7129], [37.0902, -95.7129], [37.0902, -95.7129], [35.8617, 104.1954], [35.8617, 104.1954], [35.8617, 104.1954], [35.8617, 104.1954], [35.8617, 104.1954], [35.8617, 104.1954], [35.8617, 104.1954], [35.8617, 104.1954], [35.8617, 104.1954], [35.8617, 104.1954], [35.8617, 104.1954], [35.8617, 104.1954], [35.8617, 104.1954], [35.8617, 104.1954], [35.8617, 104.1954], [35.8617, 104.1954], [35.8617, 104.1954], [35.8617, 104.1954], [35.8617, 104.1954], [35.8617, 104.1954], [35.8617, 104.1954], [35.8617, 104.1954], [35.8617, 104.1954], [35.8617, 104.1954], [35.8617, 104.1954], [35.8617, 104.1954], [35.8617, 104.1954], [35.8617, 104.1954], [35.8617, 104.1954], [35.8617, 104.1954], [35.8617, 104.1954], [35.8617, 104.1954], [35.8617, 104.1954], [35.8617, 104.1954], [35.8617, 104.1954], [35.8617, 104.1954], [35.8617, 104.1954], [35.8617, 104.1954], [35.8617, 104.1954], [35.8617, 104.1954], [35.8617, 104.1954], [35.8617, 104.1954], [35.8617, 104.1954], [35.8617, 104.1954], [35.8617, 104.1954], [35.8617, 104.1954], [35.8617, 104.1954], [35.8617, 104.1954], [46.8625, 103.8467], [46.8625, 103.8467], [46.8625, 103.8467], [46.8625, 103.8467], [46.8625, 103.8467], [46.8625, 103.8467], [46.8625, 103.8467], [46.8625, 103.8467], [46.8625, 103.8467], [46.8625, 103.8467], [46.8625, 103.8467], [46.8625, 103.8467], [46.8625, 103.8467], [46.8625, 103.8467], [46.8625, 103.8467], [46.8625, 103.8467], [46.8625, 103.8467], [46.8625, 103.8467], [46.8625, 103.8467], [46.8625, 103.8467], [46.8625, 103.8467], [46.8625, 103.8467], [46.8625, 103.8467], [46.8625, 103.8467], [46.8625, 103.8467], [46.8625, 103.8467], [46.8625, 103.8467], [46.8625, 103.8467], [46.8625, 103.8467], [46.8625, 103.8467], [46.8625, 103.8467], [46.8625, 103.8467], [46.8625, 103.8467], [46.8625, 103.8467], [46.8625, 103.8467], [46.8625, 103.8467], [46.8625, 103.8467], [46.8625, 103.8467], [46.8625, 103.8467], [46.8625, 103.8467], [46.8625, 103.8467], [46.8625, 103.8467], [46.8625, 103.8467], [46.8625, 103.8467], [46.8625, 103.8467], [46.8625, 103.8467], [-38.4161, -63.6167], [-38.4161, -63.6167], [-38.4161, -63.6167], [-38.4161, -63.6167], [-38.4161, -63.6167], [-38.4161, -63.6167], [-38.4161, -63.6167], [-38.4161, -63.6167], [-38.4161, -63.6167], [-38.4161, -63.6167], [-38.4161, -63.6167], [-38.4161, -63.6167], [-38.4161, -63.6167], [-38.4161, -63.6167], [-38.4161, -63.6167], [-38.4161, -63.6167], [-38.4161, -63.6167], [-38.4161, -63.6167], [-38.4161, -63.6167], [-38.4161, -63.6167], [-38.4161, -63.6167], [-38.4161, -63.6167], [-38.4161, -63.6167], [-38.4161, -63.6167], [-38.4161, -63.6167], [-38.4161, -63.6167], [55.3781, -3.436], [55.3781, -3.436], [55.3781, -3.436], [55.3781, -3.436], [55.3781, -3.436], [55.3781, -3.436], [55.3781, -3.436], [55.3781, -3.436], [55.3781, -3.436], [55.3781, -3.436], [55.3781, -3.436], [55.3781, -3.436], [55.3781, -3.436], [55.3781, -3.436], [55.3781, -3.436], [55.3781, -3.436], [55.3781, -3.436], [55.3781, -3.436], [55.3781, -3.436], [55.3781, -3.436], [55.3781, -3.436], [56.1304, -106.3468], [56.1304, -106.3468], [56.1304, -106.3468], [56.1304, -106.3468], [56.1304, -106.3468], [56.1304, -106.3468], [56.1304, -106.3468], [56.1304, -106.3468], [56.1304, -106.3468], [56.1304, -106.3468], [56.1304, -106.3468], [56.1304, -106.3468], [56.1304, -106.3468], [56.1304, -106.3468], [51.1657, 10.4515], [51.1657, 10.4515], [51.1657, 10.4515], [51.1657, 10.4515], [51.1657, 10.4515], [51.1657, 10.4515], [51.1657, 10.4515], [51.1657, 10.4515], [17.6078, 8.0817], [17.6078, 8.0817], [17.6078, 8.0817], [17.6078, 8.0817], [17.6078, 8.0817], [17.6078, 8.0817], [-25.2744, 133.7751], [-25.2744, 133.7751], [-25.2744, 133.7751], [-25.2744, 133.7751], [-25.2744, 133.7751], [-25.2744, 133.7751], [-6.369, 34.8888], [-6.369, 34.8888], [-6.369, 34.8888], [-6.369, 34.8888], [-6.369, 34.8888], [-30.5595, 22.9375], [-30.5595, 22.9375], [-30.5595, 22.9375], [-30.5595, 22.9375], [-30.5595, 22.9375], [40.4637, -3.7492], [40.4637, -3.7492], [40.4637, -3.7492], [40.4637, -3.7492], [40.4637, -3.7492], [20.5937, 78.9629], [20.5937, 78.9629], [20.5937, 78.9629], [20.5937, 78.9629], [46.2276, 2.2137], [46.2276, 2.2137], [46.2276, 2.2137], [46.2276, 2.2137], [-14.235, -51.9253], [-14.235, -51.9253], [-14.235, -51.9253], [-14.235, -51.9253], [-18.7669, 46.8691], [-18.7669, 46.8691], [-18.7669, 46.8691], [-19.0154, 29.1549], [-19.0154, 29.1549], [-19.0154, 29.1549], [31.7917, -7.0926], [31.7917, -7.0926], [31.7917, -7.0926], [48.0196, 66.9237], [48.0196, 66.9237], [36.2048, 138.2529], [36.2048, 138.2529], [61.524, 105.3188], [61.524, 105.3188], [45.9432, 24.9668], [45.9432, 24.9668], [26.8206, 30.8025], [26.8206, 30.8025], [41.3775, 64.5853], [41.3775, 64.5853], [-82.8628, 135.0], [23.4162, 25.6628], [-29.609988, 28.233608], [-32.522779, -55.765835], [-13.254308, 34.301525], [33.886917, 9.537499], [52.130661, -3.783712], [46.818188, 8.227512]],\n",
       "                {&quot;blur&quot;: 15, &quot;maxZoom&quot;: 18, &quot;minOpacity&quot;: 0.5, &quot;radius&quot;: 30}\n",
       "            );\n",
       "        \n",
       "    \n",
       "            heat_map_af9a4b36fd091604f3d136d005cea372.addTo(map_d40b9352e1fcb2fe4c23ac618b89f8a4);\n",
       "        \n",
       "    \n",
       "            tile_layer_2c66aab9bdfd3750a78edff9405ed1c3.addTo(map_d40b9352e1fcb2fe4c23ac618b89f8a4);\n",
       "        \n",
       "    \n",
       "            heat_map_af9a4b36fd091604f3d136d005cea372.addTo(map_d40b9352e1fcb2fe4c23ac618b89f8a4);\n",
       "        \n",
       "&lt;/script&gt;\n",
       "&lt;/html&gt;\" style=\"position:absolute;width:100%;height:100%;left:0;top:0;border:none !important;\" allowfullscreen webkitallowfullscreen mozallowfullscreen></iframe></div></div>"
      ],
      "text/plain": [
       "<folium.folium.Map at 0x28597cf20>"
      ]
     },
     "execution_count": 117,
     "metadata": {},
     "output_type": "execute_result"
    }
   ],
   "source": [
    "map"
   ]
  },
  {
   "cell_type": "code",
   "execution_count": null,
   "id": "2cb34b04-a636-4fd3-a2fe-7248decbce25",
   "metadata": {},
   "outputs": [],
   "source": []
  }
 ],
 "metadata": {
  "kernelspec": {
   "display_name": "Python 3 (ipykernel)",
   "language": "python",
   "name": "python3"
  },
  "language_info": {
   "codemirror_mode": {
    "name": "ipython",
    "version": 3
   },
   "file_extension": ".py",
   "mimetype": "text/x-python",
   "name": "python",
   "nbconvert_exporter": "python",
   "pygments_lexer": "ipython3",
   "version": "3.12.1"
  }
 },
 "nbformat": 4,
 "nbformat_minor": 5
}
